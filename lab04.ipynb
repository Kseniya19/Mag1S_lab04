{
 "cells": [
  {
   "cell_type": "code",
   "execution_count": 3,
   "id": "69adf268",
   "metadata": {},
   "outputs": [],
   "source": [
    "a = 86415\n",
    "b = 12345"
   ]
  },
  {
   "cell_type": "code",
   "execution_count": 4,
   "id": "73b7fbee",
   "metadata": {},
   "outputs": [],
   "source": [
    "def alg_e(a, b):\n",
    "    while (a != 0) and (b != 0):\n",
    "        if a >= b:\n",
    "            a = a % b\n",
    "        else:\n",
    "            b = b % a\n",
    "    return a or b"
   ]
  },
  {
   "cell_type": "code",
   "execution_count": 5,
   "id": "2649e0af",
   "metadata": {},
   "outputs": [
    {
     "data": {
      "text/plain": [
       "12345"
      ]
     },
     "execution_count": 5,
     "metadata": {},
     "output_type": "execute_result"
    }
   ],
   "source": [
    "alg_e(a, b)"
   ]
  },
  {
   "cell_type": "code",
   "execution_count": 6,
   "id": "95046399",
   "metadata": {},
   "outputs": [],
   "source": [
    "def alg_e_bin(a, b):\n",
    "    g = 1\n",
    "    while (a % 2 == 0) and (b % 2 == 0):\n",
    "        a /= 2\n",
    "        b /= 2\n",
    "        g *= 2\n",
    "    u, v = a, b\n",
    "    while (u != 0):\n",
    "        if u % 2 == 0:\n",
    "            u /= 2\n",
    "        if v % 2 == 0:\n",
    "            v /= 2\n",
    "        if u >= v:\n",
    "            u -= v\n",
    "        else:\n",
    "            v -= u\n",
    "    d = g*v\n",
    "    return d"
   ]
  },
  {
   "cell_type": "code",
   "execution_count": 7,
   "id": "1dc0ea0e",
   "metadata": {},
   "outputs": [
    {
     "data": {
      "text/plain": [
       "12345"
      ]
     },
     "execution_count": 7,
     "metadata": {},
     "output_type": "execute_result"
    }
   ],
   "source": [
    "alg_e_bin(a, b)"
   ]
  },
  {
   "cell_type": "code",
   "execution_count": 10,
   "id": "16207c76",
   "metadata": {},
   "outputs": [],
   "source": [
    "def alg_e_ext(a, b):\n",
    "    if a == 0:\n",
    "        return(b, 0, 1)\n",
    "    else:\n",
    "        d, y, x = alg_e_ext(b % a, a)\n",
    "    return (d, x-(b//a)*y, y)"
   ]
  },
  {
   "cell_type": "code",
   "execution_count": 11,
   "id": "53c96e79",
   "metadata": {},
   "outputs": [
    {
     "data": {
      "text/plain": [
       "(12345, 0, 1)"
      ]
     },
     "execution_count": 11,
     "metadata": {},
     "output_type": "execute_result"
    }
   ],
   "source": [
    "alg_e_ext(a, b)"
   ]
  },
  {
   "cell_type": "code",
   "execution_count": 12,
   "id": "581b96f5",
   "metadata": {},
   "outputs": [],
   "source": [
    "def alg_e_bin_ext(a, b):\n",
    "    g = 1\n",
    "    while (a % 2 == 0) and (b % 2 == 0):\n",
    "        a /= 2\n",
    "        b /= 2\n",
    "        g *= 2\n",
    "    u, v = a, b\n",
    "    A, B, C, D = 1, 0, 0, 1\n",
    "    \n",
    "    while u != 0:\n",
    "        if u % 2 == 0:\n",
    "            u /= 2\n",
    "            if (A % 2 == 0) and (B % 2 == 0):\n",
    "                A /= 2\n",
    "                B /= 2\n",
    "            else:\n",
    "                A = (A + b)/2\n",
    "                B = (B - a)/2\n",
    "        if v % 2 == 0:\n",
    "            v /= 2\n",
    "            if (C % 2 == 0) and (D % 2 == 0):\n",
    "                C /= 2\n",
    "                D /= 2\n",
    "            else:\n",
    "                C = (C + b)/2\n",
    "                D = (D - a)/2\n",
    "        if u >= v:\n",
    "            u -= v\n",
    "            A -= C\n",
    "            B -= D\n",
    "        else:\n",
    "            v -= u\n",
    "            C -= A\n",
    "            D -= B\n",
    "    d = g*v\n",
    "    x = C\n",
    "    y = D\n",
    "    return(d, x, y)"
   ]
  },
  {
   "cell_type": "code",
   "execution_count": 13,
   "id": "e2683ade",
   "metadata": {},
   "outputs": [
    {
     "data": {
      "text/plain": [
       "(12345, 0, 1)"
      ]
     },
     "execution_count": 13,
     "metadata": {},
     "output_type": "execute_result"
    }
   ],
   "source": [
    "alg_e_bin_ext(a, b)"
   ]
  },
  {
   "cell_type": "code",
   "execution_count": null,
   "id": "f0198947",
   "metadata": {},
   "outputs": [],
   "source": []
  }
 ],
 "metadata": {
  "kernelspec": {
   "display_name": "Python 3 (ipykernel)",
   "language": "python",
   "name": "python3"
  },
  "language_info": {
   "codemirror_mode": {
    "name": "ipython",
    "version": 3
   },
   "file_extension": ".py",
   "mimetype": "text/x-python",
   "name": "python",
   "nbconvert_exporter": "python",
   "pygments_lexer": "ipython3",
   "version": "3.9.13"
  }
 },
 "nbformat": 4,
 "nbformat_minor": 5
}
